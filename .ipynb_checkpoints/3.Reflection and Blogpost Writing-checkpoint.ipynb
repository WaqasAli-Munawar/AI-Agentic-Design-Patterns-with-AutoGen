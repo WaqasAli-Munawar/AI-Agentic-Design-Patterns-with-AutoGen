{
 "cells": [
  {
   "cell_type": "code",
   "execution_count": 1,
   "id": "96d39be0-eaf3-456d-8613-ba21099ed36b",
   "metadata": {
    "height": 30
   },
   "outputs": [],
   "source": [
    "llm_config = {\"model\": \"gpt-3.5-turbo\"}"
   ]
  },
  {
   "cell_type": "markdown",
   "id": "0969e6bb",
   "metadata": {},
   "source": [
    "## The task!"
   ]
  },
  {
   "cell_type": "code",
   "execution_count": 2,
   "id": "e8074032-3690-4de9-ad08-ea8323cb441b",
   "metadata": {
    "height": 115
   },
   "outputs": [],
   "source": [
    "task = '''\n",
    "        Write a concise but engaging blogpost about\n",
    "       DeepLearning.AI. Make sure the blogpost is\n",
    "       within 100 words.\n",
    "       '''\n"
   ]
  },
  {
   "cell_type": "markdown",
   "id": "1987f023",
   "metadata": {},
   "source": [
    "## Create a writer agent"
   ]
  },
  {
   "cell_type": "code",
   "execution_count": 3,
   "id": "fe0f0a47-a9fe-43a0-b7b1-79922e4c4ac8",
   "metadata": {
    "height": 183
   },
   "outputs": [],
   "source": [
    "import autogen\n",
    "\n",
    "writer = autogen.AssistantAgent(\n",
    "    name=\"Writer\",\n",
    "    system_message=\"You are a writer. You write engaging and concise \" \n",
    "        \"blogpost (with title) on given topics. You must polish your \"\n",
    "        \"writing based on the feedback you receive and give a refined \"\n",
    "        \"version. Only return your final work without additional comments.\",\n",
    "    llm_config=llm_config,\n",
    ")"
   ]
  },
  {
   "cell_type": "code",
   "execution_count": 4,
   "id": "7c7b4d8d-40f7-4a05-8958-25d20054de3a",
   "metadata": {
    "height": 30
   },
   "outputs": [],
   "source": [
    "reply = writer.generate_reply(messages=[{\"content\": task, \"role\": \"user\"}])"
   ]
  },
  {
   "cell_type": "code",
   "execution_count": 5,
   "id": "c501c97d-e338-4f36-a384-6ec45983cf77",
   "metadata": {
    "height": 30
   },
   "outputs": [
    {
     "name": "stdout",
     "output_type": "stream",
     "text": [
      "Title: Unveiling the Power of DeepLearning.AI\n",
      "\n",
      "Dive into the world of artificial intelligence with DeepLearning.AI. Founded by global expert Andrew Ng, this platform offers top-tier courses on deep learning and AI technology. Whether you're a novice or an expert in the field, DeepLearning.AI caters to all skill levels. With hands-on projects and real-world applications, you can upskill and stay ahead in this rapidly evolving industry. Join a vibrant community of learners and enthusiasts, and unlock your potential with DeepLearning.AI today. Embrace the future of technology and propel your career forward!\n"
     ]
    }
   ],
   "source": [
    "print(reply)"
   ]
  },
  {
   "cell_type": "markdown",
   "id": "49658114",
   "metadata": {},
   "source": [
    "## Adding reflection \n",
    "\n",
    "Create a critic agent to reflect on the work of the writer agent."
   ]
  },
  {
   "cell_type": "code",
   "execution_count": 6,
   "id": "c7fcd1c7-51ec-4915-8e97-bac03565c4c7",
   "metadata": {
    "height": 149
   },
   "outputs": [],
   "source": [
    "critic = autogen.AssistantAgent(\n",
    "    name=\"Critic\",\n",
    "    is_termination_msg=lambda x: x.get(\"content\", \"\").find(\"TERMINATE\") >= 0,\n",
    "    llm_config=llm_config,\n",
    "    system_message=\"You are a critic. You review the work of \"\n",
    "                \"the writer and provide constructive \"\n",
    "                \"feedback to help improve the quality of the content.\",\n",
    ")"
   ]
  },
  {
   "cell_type": "code",
   "execution_count": 7,
   "id": "899d5fdb-6081-470b-b287-8cf8b8142d0d",
   "metadata": {
    "height": 115
   },
   "outputs": [
    {
     "name": "stdout",
     "output_type": "stream",
     "text": [
      "\u001b[33mCritic\u001b[0m (to Writer):\n",
      "\n",
      "\n",
      "        Write a concise but engaging blogpost about\n",
      "       DeepLearning.AI. Make sure the blogpost is\n",
      "       within 100 words.\n",
      "       \n",
      "\n",
      "--------------------------------------------------------------------------------\n",
      "\u001b[33mWriter\u001b[0m (to Critic):\n",
      "\n",
      "Title: Unveiling the Power of DeepLearning.AI\n",
      "\n",
      "Dive into the world of artificial intelligence with DeepLearning.AI. Founded by global expert Andrew Ng, this platform offers top-tier courses on deep learning and AI technology. Whether you're a novice or an expert in the field, DeepLearning.AI caters to all skill levels. With hands-on projects and real-world applications, you can upskill and stay ahead in this rapidly evolving industry. Join a vibrant community of learners and enthusiasts, and unlock your potential with DeepLearning.AI today. Embrace the future of technology and propel your career forward!\n",
      "\n",
      "--------------------------------------------------------------------------------\n",
      "\u001b[33mCritic\u001b[0m (to Writer):\n",
      "\n",
      "This blog post is well-written and informative, providing a brief overview of DeepLearning.AI and its offerings. The title \"Unveiling the Power of DeepLearning.AI\" is engaging and sets the tone for the content. The post effectively highlights the platform's key features, such as top-tier courses, hands-on projects, and a supportive community.\n",
      "\n",
      "To further enhance the blog post, you could consider adding specific examples of the courses or projects available on DeepLearning.AI to give readers a better understanding of what they can expect. Additionally, including testimonials or success stories from learners who have benefited from the platform could make the content more compelling.\n",
      "\n",
      "Overall, this blog post effectively conveys the value of DeepLearning.AI, but adding more specific details and personal anecdotes could make it even more engaging for readers.\n",
      "\n",
      "--------------------------------------------------------------------------------\n",
      "\u001b[33mWriter\u001b[0m (to Critic):\n",
      "\n",
      "Title: Unveiling the Power of DeepLearning.AI\n",
      "\n",
      "Embark on a journey into the realm of artificial intelligence with DeepLearning.AI, a cutting-edge platform curated by renowned expert Andrew Ng. Offering a diverse range of courses, from beginner to advanced levels, this hub empowers learners with practical projects and real-world AI applications. Picture yourself mastering deep learning fundamentals or diving into advanced neural networks – all while being part of a dynamic and supportive community. Join DeepLearning.AI today to revolutionize your skill set and propel your career into the tech-driven future. The power to transform is in your hands – embrace it with DeepLearning.AI!\n",
      "\n",
      "--------------------------------------------------------------------------------\n"
     ]
    }
   ],
   "source": [
    "res = critic.initiate_chat(\n",
    "    recipient=writer,\n",
    "    message=task,\n",
    "    max_turns=2,\n",
    "    summary_method=\"last_msg\"\n",
    ")"
   ]
  },
  {
   "cell_type": "markdown",
   "id": "e7b76449",
   "metadata": {},
   "source": [
    "## Nested chat"
   ]
  },
  {
   "cell_type": "code",
   "execution_count": 8,
   "id": "401ecf92-63e9-40ff-aeed-1c404352e4ab",
   "metadata": {
    "height": 200
   },
   "outputs": [],
   "source": [
    "SEO_reviewer = autogen.AssistantAgent(\n",
    "    name=\"SEO Reviewer\",\n",
    "    llm_config=llm_config,\n",
    "    system_message=\"You are an SEO reviewer, known for \"\n",
    "        \"your ability to optimize content for search engines, \"\n",
    "        \"ensuring that it ranks well and attracts organic traffic. \" \n",
    "        \"Make sure your suggestion is concise (within 3 bullet points), \"\n",
    "        \"concrete and to the point. \"\n",
    "        \"Begin the review by stating your role.\",\n",
    ")\n"
   ]
  },
  {
   "cell_type": "code",
   "execution_count": 9,
   "id": "f85acb81-7ab9-4c84-b8bb-6fbae3dce848",
   "metadata": {
    "height": 183
   },
   "outputs": [],
   "source": [
    "legal_reviewer = autogen.AssistantAgent(\n",
    "    name=\"Legal Reviewer\",\n",
    "    llm_config=llm_config,\n",
    "    system_message=\"You are a legal reviewer, known for \"\n",
    "        \"your ability to ensure that content is legally compliant \"\n",
    "        \"and free from any potential legal issues. \"\n",
    "        \"Make sure your suggestion is concise (within 3 bullet points), \"\n",
    "        \"concrete and to the point. \"\n",
    "        \"Begin the review by stating your role.\",\n",
    ")"
   ]
  },
  {
   "cell_type": "code",
   "execution_count": 10,
   "id": "d46a177a-8088-4956-8d2b-3e916b8ca5e9",
   "metadata": {
    "height": 183
   },
   "outputs": [],
   "source": [
    "ethics_reviewer = autogen.AssistantAgent(\n",
    "    name=\"Ethics Reviewer\",\n",
    "    llm_config=llm_config,\n",
    "    system_message=\"You are an ethics reviewer, known for \"\n",
    "        \"your ability to ensure that content is ethically sound \"\n",
    "        \"and free from any potential ethical issues. \" \n",
    "        \"Make sure your suggestion is concise (within 3 bullet points), \"\n",
    "        \"concrete and to the point. \"\n",
    "        \"Begin the review by stating your role. \",\n",
    ")"
   ]
  },
  {
   "cell_type": "code",
   "execution_count": 11,
   "id": "a7b2ad6f-8ba6-436a-9459-14ffbe8a32d3",
   "metadata": {
    "height": 115
   },
   "outputs": [],
   "source": [
    "meta_reviewer = autogen.AssistantAgent(\n",
    "    name=\"Meta Reviewer\",\n",
    "    llm_config=llm_config,\n",
    "    system_message=\"You are a meta reviewer, you aggragate and review \"\n",
    "    \"the work of other reviewers and give a final suggestion on the content.\",\n",
    ")"
   ]
  },
  {
   "cell_type": "markdown",
   "id": "913beca1",
   "metadata": {},
   "source": [
    "## Orchestrate the nested chats to solve the task"
   ]
  },
  {
   "cell_type": "code",
   "execution_count": 12,
   "id": "a11a70c7-19ca-4e5a-ad3d-f2b481fb5915",
   "metadata": {
    "height": 557
   },
   "outputs": [],
   "source": [
    "def reflection_message(recipient, messages, sender, config):\n",
    "    return f'''Review the following content.\\n\\n {recipient.chat_messages_for_summary(sender)[-1]['content']}'''\n",
    "\n",
    "review_chats = [\n",
    "    {\n",
    "     \"recipient\": SEO_reviewer, \n",
    "     \"message\": reflection_message, \n",
    "     \"summary_method\": \"reflection_with_llm\",\n",
    "     \"summary_args\": {\"summary_prompt\" : \n",
    "        \"Return review into as JSON object only:\"\n",
    "        \"{'Reviewer': '', 'Review': ''}. Here Reviewer should be your role\",},\n",
    "     \"max_turns\": 1},\n",
    "    {\n",
    "    \"recipient\": legal_reviewer, \"message\": reflection_message, \n",
    "     \"summary_method\": \"reflection_with_llm\",\n",
    "     \"summary_args\": {\"summary_prompt\" : \n",
    "        \"Return review into as JSON object only:\"\n",
    "        \"{'Reviewer': '', 'Review': ''}.\",},\n",
    "     \"max_turns\": 1},\n",
    "    {\"recipient\": ethics_reviewer, \"message\": reflection_message, \n",
    "     \"summary_method\": \"reflection_with_llm\",\n",
    "     \"summary_args\": {\"summary_prompt\" : \n",
    "        \"Return review into as JSON object only:\"\n",
    "        \"{'reviewer': '', 'review': ''}\",},\n",
    "     \"max_turns\": 1},\n",
    "     {\"recipient\": meta_reviewer, \n",
    "      \"message\": \"Aggregrate feedback from all reviewers and give final suggestions on the writing.\", \n",
    "     \"max_turns\": 1},\n",
    "]\n"
   ]
  },
  {
   "cell_type": "code",
   "execution_count": 13,
   "id": "b3a40b66-5061-460d-ad9d-c0dbcfbba2e9",
   "metadata": {
    "height": 81
   },
   "outputs": [],
   "source": [
    "critic.register_nested_chats(\n",
    "    review_chats,\n",
    "    trigger=writer,\n",
    ")"
   ]
  },
  {
   "cell_type": "markdown",
   "id": "43b8797d",
   "metadata": {},
   "source": [
    "**Note**: You might get a slightly different response than what's shown in the video. Feel free to try different task."
   ]
  },
  {
   "cell_type": "code",
   "execution_count": 14,
   "id": "3b8dcac3-1e72-43b7-9d5a-1be740f6efd5",
   "metadata": {
    "height": 115
   },
   "outputs": [
    {
     "name": "stdout",
     "output_type": "stream",
     "text": [
      "\u001b[33mCritic\u001b[0m (to Writer):\n",
      "\n",
      "\n",
      "        Write a concise but engaging blogpost about\n",
      "       DeepLearning.AI. Make sure the blogpost is\n",
      "       within 100 words.\n",
      "       \n",
      "\n",
      "--------------------------------------------------------------------------------\n",
      "\u001b[33mWriter\u001b[0m (to Critic):\n",
      "\n",
      "Title: Unveiling the Power of DeepLearning.AI\n",
      "\n",
      "Dive into the world of artificial intelligence with DeepLearning.AI. Founded by global expert Andrew Ng, this platform offers top-tier courses on deep learning and AI technology. Whether you're a novice or an expert in the field, DeepLearning.AI caters to all skill levels. With hands-on projects and real-world applications, you can upskill and stay ahead in this rapidly evolving industry. Join a vibrant community of learners and enthusiasts, and unlock your potential with DeepLearning.AI today. Embrace the future of technology and propel your career forward!\n",
      "\n",
      "--------------------------------------------------------------------------------\n",
      "\u001b[34m\n",
      "********************************************************************************\u001b[0m\n",
      "\u001b[34mStarting a new chat....\u001b[0m\n",
      "\u001b[34m\n",
      "********************************************************************************\u001b[0m\n",
      "\u001b[33mCritic\u001b[0m (to SEO Reviewer):\n",
      "\n",
      "Review the following content. \n",
      "            \n",
      "\n",
      " Title: Unveiling the Power of DeepLearning.AI\n",
      "\n",
      "Dive into the world of artificial intelligence with DeepLearning.AI. Founded by global expert Andrew Ng, this platform offers top-tier courses on deep learning and AI technology. Whether you're a novice or an expert in the field, DeepLearning.AI caters to all skill levels. With hands-on projects and real-world applications, you can upskill and stay ahead in this rapidly evolving industry. Join a vibrant community of learners and enthusiasts, and unlock your potential with DeepLearning.AI today. Embrace the future of technology and propel your career forward!\n",
      "\n",
      "--------------------------------------------------------------------------------\n",
      "\u001b[33mSEO Reviewer\u001b[0m (to Critic):\n",
      "\n",
      "As an SEO reviewer, here is my feedback:\n",
      "\n",
      "- Consider using keywords related to AI, deep learning, online courses in the title and throughout the content to improve searchability.\n",
      "- Include specific course names, key features, or unique offerings of DeepLearning.AI for better keyword optimization and to attract relevant organic traffic.\n",
      "- Provide a clear call-to-action inviting visitors to explore the platform for more information, potentially guiding them to enroll in a course or join the community.\n",
      "\n",
      "--------------------------------------------------------------------------------\n",
      "\u001b[34m\n",
      "********************************************************************************\u001b[0m\n",
      "\u001b[34mStarting a new chat....\u001b[0m\n",
      "\u001b[34m\n",
      "********************************************************************************\u001b[0m\n",
      "\u001b[33mCritic\u001b[0m (to Legal Reviewer):\n",
      "\n",
      "Review the following content. \n",
      "            \n",
      "\n",
      " Title: Unveiling the Power of DeepLearning.AI\n",
      "\n",
      "Dive into the world of artificial intelligence with DeepLearning.AI. Founded by global expert Andrew Ng, this platform offers top-tier courses on deep learning and AI technology. Whether you're a novice or an expert in the field, DeepLearning.AI caters to all skill levels. With hands-on projects and real-world applications, you can upskill and stay ahead in this rapidly evolving industry. Join a vibrant community of learners and enthusiasts, and unlock your potential with DeepLearning.AI today. Embrace the future of technology and propel your career forward!\n",
      "Context: \n",
      "{'Reviewer': 'SEO Reviewer', 'Review': \"Consider using keywords related to AI, deep learning, online courses in the title and throughout the content to improve searchability. Include specific course names, key features, or unique offerings of DeepLearning.AI for better keyword optimization and to attract relevant organic traffic. Provide a clear call-to-action inviting visitors to explore the platform for more information, potentially guiding them to enroll in a course or join the community.\"}\n",
      "\n",
      "--------------------------------------------------------------------------------\n",
      "\u001b[33mLegal Reviewer\u001b[0m (to Critic):\n",
      "\n",
      "As a Legal Reviewer:\n",
      "\n",
      "1. Ensure that all claims made in the content about DeepLearning.AI, its courses, and its founder, Andrew Ng, are accurate and substantiated.\n",
      "2. Verify that any statements regarding the benefits or outcomes of using DeepLearning.AI are not exaggerated or misleading.\n",
      "3. Check for any potential intellectual property issues related to using the term \"DeepLearning.AI\" in the content and ensure proper attribution or authorization if necessary.\n",
      "\n",
      "--------------------------------------------------------------------------------\n",
      "\u001b[34m\n",
      "********************************************************************************\u001b[0m\n",
      "\u001b[34mStarting a new chat....\u001b[0m\n",
      "\u001b[34m\n",
      "********************************************************************************\u001b[0m\n",
      "\u001b[33mCritic\u001b[0m (to Ethics Reviewer):\n",
      "\n",
      "Review the following content. \n",
      "            \n",
      "\n",
      " Title: Unveiling the Power of DeepLearning.AI\n",
      "\n",
      "Dive into the world of artificial intelligence with DeepLearning.AI. Founded by global expert Andrew Ng, this platform offers top-tier courses on deep learning and AI technology. Whether you're a novice or an expert in the field, DeepLearning.AI caters to all skill levels. With hands-on projects and real-world applications, you can upskill and stay ahead in this rapidly evolving industry. Join a vibrant community of learners and enthusiasts, and unlock your potential with DeepLearning.AI today. Embrace the future of technology and propel your career forward!\n",
      "Context: \n",
      "{'Reviewer': 'SEO Reviewer', 'Review': \"Consider using keywords related to AI, deep learning, online courses in the title and throughout the content to improve searchability. Include specific course names, key features, or unique offerings of DeepLearning.AI for better keyword optimization and to attract relevant organic traffic. Provide a clear call-to-action inviting visitors to explore the platform for more information, potentially guiding them to enroll in a course or join the community.\"}\n",
      "{'Reviewer': 'SEO Reviewer', 'Review': \"Consider using keywords related to AI, deep learning, online courses in the title and throughout the content to improve searchability. Include specific course names, key features, or unique offerings of DeepLearning.AI for better keyword optimization and to attract relevant organic traffic. Provide a clear call-to-action inviting visitors to explore the platform for more information, potentially guiding them to enroll in a course or join the community.\"}\n",
      "\n",
      "--------------------------------------------------------------------------------\n",
      "\u001b[33mEthics Reviewer\u001b[0m (to Critic):\n",
      "\n",
      "As an ethics reviewer: \n",
      "\n",
      "1. Ensure the content accurately represents the capabilities and features of DeepLearning.AI without exaggeration or false claims.\n",
      "2. Avoid using sensational language or making promises of guaranteed success to maintain transparency and integrity in the promotion of the platform.\n",
      "3. Disclose any potential conflicts of interest, such as affiliations with DeepLearning.AI, to maintain credibility and trustworthiness in the review process.\n",
      "\n",
      "--------------------------------------------------------------------------------\n",
      "\u001b[34m\n",
      "********************************************************************************\u001b[0m\n",
      "\u001b[34mStarting a new chat....\u001b[0m\n",
      "\u001b[34m\n",
      "********************************************************************************\u001b[0m\n",
      "\u001b[33mCritic\u001b[0m (to Meta Reviewer):\n",
      "\n",
      "Aggregrate feedback from all reviewers and give final suggestions on the writing.\n",
      "Context: \n",
      "{'Reviewer': 'SEO Reviewer', 'Review': \"Consider using keywords related to AI, deep learning, online courses in the title and throughout the content to improve searchability. Include specific course names, key features, or unique offerings of DeepLearning.AI for better keyword optimization and to attract relevant organic traffic. Provide a clear call-to-action inviting visitors to explore the platform for more information, potentially guiding them to enroll in a course or join the community.\"}\n",
      "{'Reviewer': 'SEO Reviewer', 'Review': \"Consider using keywords related to AI, deep learning, online courses in the title and throughout the content to improve searchability. Include specific course names, key features, or unique offerings of DeepLearning.AI for better keyword optimization and to attract relevant organic traffic. Provide a clear call-to-action inviting visitors to explore the platform for more information, potentially guiding them to enroll in a course or join the community.\"}\n",
      "{'reviewer': 'SEO Reviewer', 'review': \"Consider using keywords related to AI, deep learning, online courses in the title and throughout the content to improve searchability. Include specific course names, key features, or unique offerings of DeepLearning.AI for better keyword optimization and to attract relevant organic traffic. Provide a clear call-to-action inviting visitors to explore the platform for more information, potentially guiding them to enroll in a course or join the community.\"}\n"
     ]
    },
    {
     "name": "stdout",
     "output_type": "stream",
     "text": [
      "\n",
      "--------------------------------------------------------------------------------\n",
      "\u001b[33mMeta Reviewer\u001b[0m (to Critic):\n",
      "\n",
      "Aggregating the feedback from the SEO reviewers, it is unanimously suggested to incorporate keywords related to AI, deep learning, and online courses in the title and content to enhance searchability. They also recommend mentioning specific course names, key features, and unique offerings of DeepLearning.AI for better keyword optimization and attracting relevant organic traffic. Additionally, all reviewers emphasize the importance of providing a clear call-to-action to encourage visitors to explore the platform further, potentially leading them to enroll in a course or join the community.\n",
      "\n",
      "Based on this feedback, it is crucial to optimize the content with strategic keywords, highlight unique aspects of DeepLearning.AI, and craft a compelling call-to-action to improve overall search visibility and user engagement. Furthermore, ensuring consistency in keyword usage and seamlessly integrating actionable steps for visitors will help drive conversions and enhance the platform's performance.\n",
      "\n",
      "--------------------------------------------------------------------------------\n",
      "\u001b[33mCritic\u001b[0m (to Writer):\n",
      "\n",
      "Aggregating the feedback from the SEO reviewers, it is unanimously suggested to incorporate keywords related to AI, deep learning, and online courses in the title and content to enhance searchability. They also recommend mentioning specific course names, key features, and unique offerings of DeepLearning.AI for better keyword optimization and attracting relevant organic traffic. Additionally, all reviewers emphasize the importance of providing a clear call-to-action to encourage visitors to explore the platform further, potentially leading them to enroll in a course or join the community.\n",
      "\n",
      "Based on this feedback, it is crucial to optimize the content with strategic keywords, highlight unique aspects of DeepLearning.AI, and craft a compelling call-to-action to improve overall search visibility and user engagement. Furthermore, ensuring consistency in keyword usage and seamlessly integrating actionable steps for visitors will help drive conversions and enhance the platform's performance.\n",
      "\n",
      "--------------------------------------------------------------------------------\n",
      "\u001b[33mWriter\u001b[0m (to Critic):\n",
      "\n",
      "Title: Master AI Skills with DeepLearning.AI's Cutting-Edge Online Courses\n",
      "\n",
      "Unleash your potential in artificial intelligence and deep learning with DeepLearning.AI, spearheaded by renowned expert Andrew Ng. Explore a plethora of courses, including \"Deep Learning Specialization\" and \"AI For Everyone,\" designed to cater to all proficiency levels. With practical projects and industry-relevant curriculum, you can elevate your AI proficiency. Engage with a vibrant community, stay updated with the latest trends, and propel your career in this dynamic field. Take the first step towards mastering AI - enroll in DeepLearning.AI's courses today and chart your path to success!\n",
      "\n",
      "--------------------------------------------------------------------------------\n"
     ]
    }
   ],
   "source": [
    "res = critic.initiate_chat(\n",
    "    recipient=writer,\n",
    "    message=task,\n",
    "    max_turns=2,\n",
    "    summary_method=\"last_msg\"\n",
    ")"
   ]
  },
  {
   "cell_type": "markdown",
   "id": "c5c833b0",
   "metadata": {},
   "source": [
    "## Get the summary"
   ]
  },
  {
   "cell_type": "code",
   "execution_count": 15,
   "id": "68ef82ed-f102-4964-b7be-60e2f258a39b",
   "metadata": {
    "height": 30
   },
   "outputs": [
    {
     "name": "stdout",
     "output_type": "stream",
     "text": [
      "Title: Master AI Skills with DeepLearning.AI's Cutting-Edge Online Courses\n",
      "\n",
      "Unleash your potential in artificial intelligence and deep learning with DeepLearning.AI, spearheaded by renowned expert Andrew Ng. Explore a plethora of courses, including \"Deep Learning Specialization\" and \"AI For Everyone,\" designed to cater to all proficiency levels. With practical projects and industry-relevant curriculum, you can elevate your AI proficiency. Engage with a vibrant community, stay updated with the latest trends, and propel your career in this dynamic field. Take the first step towards mastering AI - enroll in DeepLearning.AI's courses today and chart your path to success!\n"
     ]
    }
   ],
   "source": [
    "print(res.summary)"
   ]
  }
 ],
 "metadata": {
  "kernelspec": {
   "display_name": "Python 3 (ipykernel)",
   "language": "python",
   "name": "python3"
  },
  "language_info": {
   "codemirror_mode": {
    "name": "ipython",
    "version": 3
   },
   "file_extension": ".py",
   "mimetype": "text/x-python",
   "name": "python",
   "nbconvert_exporter": "python",
   "pygments_lexer": "ipython3",
   "version": "3.11.5"
  }
 },
 "nbformat": 4,
 "nbformat_minor": 5
}
